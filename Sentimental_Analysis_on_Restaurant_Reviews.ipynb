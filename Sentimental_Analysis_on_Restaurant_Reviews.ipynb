{
  "cells": [
    {
      "cell_type": "markdown",
      "metadata": {
        "id": "view-in-github",
        "colab_type": "text"
      },
      "source": [
        "<a href=\"https://colab.research.google.com/github/adityaexe2398/ROSP-Mini-project/blob/main/Sentimental_Analysis_on_Restaurant_Reviews.ipynb\" target=\"_parent\"><img src=\"https://colab.research.google.com/assets/colab-badge.svg\" alt=\"Open In Colab\"/></a>"
      ]
    },
    {
      "cell_type": "markdown",
      "metadata": {
        "id": "TLG-jpXK7tSk"
      },
      "source": [
        "Let's load some library needed throughout the analysis"
      ]
    },
    {
      "cell_type": "code",
      "execution_count": null,
      "metadata": {
        "colab": {
          "base_uri": "https://localhost:8080/"
        },
        "id": "zd_3ZweT0wCF",
        "outputId": "416d1561-413b-4d5d-b89e-69d5c1443f7f"
      },
      "outputs": [
        {
          "output_type": "stream",
          "name": "stderr",
          "text": [
            "[nltk_data] Downloading package stopwords to /root/nltk_data...\n",
            "[nltk_data]   Package stopwords is already up-to-date!\n",
            "[nltk_data] Downloading package punkt to /root/nltk_data...\n",
            "[nltk_data]   Package punkt is already up-to-date!\n",
            "[nltk_data] Downloading package wordnet to /root/nltk_data...\n",
            "[nltk_data]   Package wordnet is already up-to-date!\n",
            "[nltk_data] Downloading package omw-1.4 to /root/nltk_data...\n",
            "[nltk_data]   Package omw-1.4 is already up-to-date!\n",
            "[nltk_data] Downloading package averaged_perceptron_tagger to\n",
            "[nltk_data]     /root/nltk_data...\n",
            "[nltk_data]   Package averaged_perceptron_tagger is already up-to-\n",
            "[nltk_data]       date!\n"
          ]
        },
        {
          "output_type": "execute_result",
          "data": {
            "text/plain": [
              "True"
            ]
          },
          "metadata": {},
          "execution_count": 5
        }
      ],
      "source": [
        "import pandas as pd\n",
        "import numpy as np\n",
        "import matplotlib.pyplot as plt\n",
        "import seaborn as sns\n",
        "from sklearn.feature_extraction.text import CountVectorizer\n",
        "from sklearn.feature_extraction.text import TfidfVectorizer\n",
        "from sklearn.linear_model import LogisticRegression\n",
        "from sklearn.model_selection import train_test_split\n",
        "from sklearn.dummy import DummyClassifier\n",
        "from string import punctuation\n",
        "from sklearn import svm\n",
        "from nltk.corpus import stopwords\n",
        "from nltk.stem import WordNetLemmatizer\n",
        "import nltk\n",
        "from nltk import ngrams\n",
        "from itertools import chain\n",
        "from wordcloud import WordCloud\n",
        "nltk.download('stopwords')\n",
        "nltk.download('punkt')\n",
        "nltk.download('wordnet')\n",
        "nltk.download('omw-1.4')\n",
        "nltk.download('averaged_perceptron_tagger')"
      ]
    },
    {
      "cell_type": "markdown",
      "metadata": {
        "id": "tVmgOHCe78lH"
      },
      "source": [
        "\n",
        "load in the dataset and add some columns for upvote metrics:"
      ]
    },
    {
      "cell_type": "code",
      "execution_count": null,
      "metadata": {
        "colab": {
          "base_uri": "https://localhost:8080/"
        },
        "id": "hJHBoPQb-L_u",
        "outputId": "26fff50a-8179-42d9-ea2e-eb506d2286cb"
      },
      "outputs": [
        {
          "output_type": "stream",
          "name": "stdout",
          "text": [
            "Drive already mounted at /content/drive; to attempt to forcibly remount, call drive.mount(\"/content/drive\", force_remount=True).\n"
          ]
        }
      ],
      "source": [
        "from google.colab import drive\n",
        "drive.mount('/content/drive')"
      ]
    },
    {
      "cell_type": "code",
      "execution_count": null,
      "metadata": {
        "colab": {
          "base_uri": "https://localhost:8080/",
          "height": 206
        },
        "id": "3b1hk6sUKt-s",
        "outputId": "503af61f-bb26-46b1-a13f-18d6680d0801"
      },
      "outputs": [
        {
          "output_type": "execute_result",
          "data": {
            "text/plain": [
              "   Id   ProductId          UserId                      ProfileName  \\\n",
              "0   1  B001E4KFG0  A3SGXH7AUHU8GW                       delmartian   \n",
              "1   2  B00813GRG4  A1D87F6ZCVE5NK                           dll pa   \n",
              "2   3  B000LQOCH0   ABXLMWJIXXAIN  Natalia Corres \"Natalia Corres\"   \n",
              "3   4  B000UA0QIQ  A395BORC6FGVXV                             Karl   \n",
              "4   5  B006K2ZZ7K  A1UQRSCLF8GW1T    Michael D. Bigham \"M. Wassir\"   \n",
              "\n",
              "   HelpfulnessNumerator  HelpfulnessDenominator  Score        Time  \\\n",
              "0                     1                       1      5  1303862400   \n",
              "1                     0                       0      1  1346976000   \n",
              "2                     1                       1      4  1219017600   \n",
              "3                     3                       3      2  1307923200   \n",
              "4                     0                       0      5  1350777600   \n",
              "\n",
              "                 Summary                                               Text  \\\n",
              "0  Good Quality Dog Food  I have bought several of the Vitality canned d...   \n",
              "1      Not as Advertised  Product arrived labeled as Jumbo Salted Peanut...   \n",
              "2  \"Delight\" says it all  This is a confection that has been around a fe...   \n",
              "3         Cough Medicine  If you are looking for the secret ingredient i...   \n",
              "4            Great taffy  Great taffy at a great price.  There was a wid...   \n",
              "\n",
              "   Helpful % % Upvote  \n",
              "0        1.0  80-100%  \n",
              "1       -1.0    Empty  \n",
              "2        1.0  80-100%  \n",
              "3        1.0  80-100%  \n",
              "4       -1.0    Empty  "
            ],
            "text/html": [
              "\n",
              "  <div id=\"df-156264a0-a2d3-4963-9fde-39a7cc36f135\" class=\"colab-df-container\">\n",
              "    <div>\n",
              "<style scoped>\n",
              "    .dataframe tbody tr th:only-of-type {\n",
              "        vertical-align: middle;\n",
              "    }\n",
              "\n",
              "    .dataframe tbody tr th {\n",
              "        vertical-align: top;\n",
              "    }\n",
              "\n",
              "    .dataframe thead th {\n",
              "        text-align: right;\n",
              "    }\n",
              "</style>\n",
              "<table border=\"1\" class=\"dataframe\">\n",
              "  <thead>\n",
              "    <tr style=\"text-align: right;\">\n",
              "      <th></th>\n",
              "      <th>Id</th>\n",
              "      <th>ProductId</th>\n",
              "      <th>UserId</th>\n",
              "      <th>ProfileName</th>\n",
              "      <th>HelpfulnessNumerator</th>\n",
              "      <th>HelpfulnessDenominator</th>\n",
              "      <th>Score</th>\n",
              "      <th>Time</th>\n",
              "      <th>Summary</th>\n",
              "      <th>Text</th>\n",
              "      <th>Helpful %</th>\n",
              "      <th>% Upvote</th>\n",
              "    </tr>\n",
              "  </thead>\n",
              "  <tbody>\n",
              "    <tr>\n",
              "      <th>0</th>\n",
              "      <td>1</td>\n",
              "      <td>B001E4KFG0</td>\n",
              "      <td>A3SGXH7AUHU8GW</td>\n",
              "      <td>delmartian</td>\n",
              "      <td>1</td>\n",
              "      <td>1</td>\n",
              "      <td>5</td>\n",
              "      <td>1303862400</td>\n",
              "      <td>Good Quality Dog Food</td>\n",
              "      <td>I have bought several of the Vitality canned d...</td>\n",
              "      <td>1.0</td>\n",
              "      <td>80-100%</td>\n",
              "    </tr>\n",
              "    <tr>\n",
              "      <th>1</th>\n",
              "      <td>2</td>\n",
              "      <td>B00813GRG4</td>\n",
              "      <td>A1D87F6ZCVE5NK</td>\n",
              "      <td>dll pa</td>\n",
              "      <td>0</td>\n",
              "      <td>0</td>\n",
              "      <td>1</td>\n",
              "      <td>1346976000</td>\n",
              "      <td>Not as Advertised</td>\n",
              "      <td>Product arrived labeled as Jumbo Salted Peanut...</td>\n",
              "      <td>-1.0</td>\n",
              "      <td>Empty</td>\n",
              "    </tr>\n",
              "    <tr>\n",
              "      <th>2</th>\n",
              "      <td>3</td>\n",
              "      <td>B000LQOCH0</td>\n",
              "      <td>ABXLMWJIXXAIN</td>\n",
              "      <td>Natalia Corres \"Natalia Corres\"</td>\n",
              "      <td>1</td>\n",
              "      <td>1</td>\n",
              "      <td>4</td>\n",
              "      <td>1219017600</td>\n",
              "      <td>\"Delight\" says it all</td>\n",
              "      <td>This is a confection that has been around a fe...</td>\n",
              "      <td>1.0</td>\n",
              "      <td>80-100%</td>\n",
              "    </tr>\n",
              "    <tr>\n",
              "      <th>3</th>\n",
              "      <td>4</td>\n",
              "      <td>B000UA0QIQ</td>\n",
              "      <td>A395BORC6FGVXV</td>\n",
              "      <td>Karl</td>\n",
              "      <td>3</td>\n",
              "      <td>3</td>\n",
              "      <td>2</td>\n",
              "      <td>1307923200</td>\n",
              "      <td>Cough Medicine</td>\n",
              "      <td>If you are looking for the secret ingredient i...</td>\n",
              "      <td>1.0</td>\n",
              "      <td>80-100%</td>\n",
              "    </tr>\n",
              "    <tr>\n",
              "      <th>4</th>\n",
              "      <td>5</td>\n",
              "      <td>B006K2ZZ7K</td>\n",
              "      <td>A1UQRSCLF8GW1T</td>\n",
              "      <td>Michael D. Bigham \"M. Wassir\"</td>\n",
              "      <td>0</td>\n",
              "      <td>0</td>\n",
              "      <td>5</td>\n",
              "      <td>1350777600</td>\n",
              "      <td>Great taffy</td>\n",
              "      <td>Great taffy at a great price.  There was a wid...</td>\n",
              "      <td>-1.0</td>\n",
              "      <td>Empty</td>\n",
              "    </tr>\n",
              "  </tbody>\n",
              "</table>\n",
              "</div>\n",
              "    <div class=\"colab-df-buttons\">\n",
              "\n",
              "  <div class=\"colab-df-container\">\n",
              "    <button class=\"colab-df-convert\" onclick=\"convertToInteractive('df-156264a0-a2d3-4963-9fde-39a7cc36f135')\"\n",
              "            title=\"Convert this dataframe to an interactive table.\"\n",
              "            style=\"display:none;\">\n",
              "\n",
              "  <svg xmlns=\"http://www.w3.org/2000/svg\" height=\"24px\" viewBox=\"0 -960 960 960\">\n",
              "    <path d=\"M120-120v-720h720v720H120Zm60-500h600v-160H180v160Zm220 220h160v-160H400v160Zm0 220h160v-160H400v160ZM180-400h160v-160H180v160Zm440 0h160v-160H620v160ZM180-180h160v-160H180v160Zm440 0h160v-160H620v160Z\"/>\n",
              "  </svg>\n",
              "    </button>\n",
              "\n",
              "  <style>\n",
              "    .colab-df-container {\n",
              "      display:flex;\n",
              "      gap: 12px;\n",
              "    }\n",
              "\n",
              "    .colab-df-convert {\n",
              "      background-color: #E8F0FE;\n",
              "      border: none;\n",
              "      border-radius: 50%;\n",
              "      cursor: pointer;\n",
              "      display: none;\n",
              "      fill: #1967D2;\n",
              "      height: 32px;\n",
              "      padding: 0 0 0 0;\n",
              "      width: 32px;\n",
              "    }\n",
              "\n",
              "    .colab-df-convert:hover {\n",
              "      background-color: #E2EBFA;\n",
              "      box-shadow: 0px 1px 2px rgba(60, 64, 67, 0.3), 0px 1px 3px 1px rgba(60, 64, 67, 0.15);\n",
              "      fill: #174EA6;\n",
              "    }\n",
              "\n",
              "    .colab-df-buttons div {\n",
              "      margin-bottom: 4px;\n",
              "    }\n",
              "\n",
              "    [theme=dark] .colab-df-convert {\n",
              "      background-color: #3B4455;\n",
              "      fill: #D2E3FC;\n",
              "    }\n",
              "\n",
              "    [theme=dark] .colab-df-convert:hover {\n",
              "      background-color: #434B5C;\n",
              "      box-shadow: 0px 1px 3px 1px rgba(0, 0, 0, 0.15);\n",
              "      filter: drop-shadow(0px 1px 2px rgba(0, 0, 0, 0.3));\n",
              "      fill: #FFFFFF;\n",
              "    }\n",
              "  </style>\n",
              "\n",
              "    <script>\n",
              "      const buttonEl =\n",
              "        document.querySelector('#df-156264a0-a2d3-4963-9fde-39a7cc36f135 button.colab-df-convert');\n",
              "      buttonEl.style.display =\n",
              "        google.colab.kernel.accessAllowed ? 'block' : 'none';\n",
              "\n",
              "      async function convertToInteractive(key) {\n",
              "        const element = document.querySelector('#df-156264a0-a2d3-4963-9fde-39a7cc36f135');\n",
              "        const dataTable =\n",
              "          await google.colab.kernel.invokeFunction('convertToInteractive',\n",
              "                                                    [key], {});\n",
              "        if (!dataTable) return;\n",
              "\n",
              "        const docLinkHtml = 'Like what you see? Visit the ' +\n",
              "          '<a target=\"_blank\" href=https://colab.research.google.com/notebooks/data_table.ipynb>data table notebook</a>'\n",
              "          + ' to learn more about interactive tables.';\n",
              "        element.innerHTML = '';\n",
              "        dataTable['output_type'] = 'display_data';\n",
              "        await google.colab.output.renderOutput(dataTable, element);\n",
              "        const docLink = document.createElement('div');\n",
              "        docLink.innerHTML = docLinkHtml;\n",
              "        element.appendChild(docLink);\n",
              "      }\n",
              "    </script>\n",
              "  </div>\n",
              "\n",
              "\n",
              "<div id=\"df-8ac96c30-7230-4889-b52b-8f5114ad5e42\">\n",
              "  <button class=\"colab-df-quickchart\" onclick=\"quickchart('df-8ac96c30-7230-4889-b52b-8f5114ad5e42')\"\n",
              "            title=\"Suggest charts\"\n",
              "            style=\"display:none;\">\n",
              "\n",
              "<svg xmlns=\"http://www.w3.org/2000/svg\" height=\"24px\"viewBox=\"0 0 24 24\"\n",
              "     width=\"24px\">\n",
              "    <g>\n",
              "        <path d=\"M19 3H5c-1.1 0-2 .9-2 2v14c0 1.1.9 2 2 2h14c1.1 0 2-.9 2-2V5c0-1.1-.9-2-2-2zM9 17H7v-7h2v7zm4 0h-2V7h2v10zm4 0h-2v-4h2v4z\"/>\n",
              "    </g>\n",
              "</svg>\n",
              "  </button>\n",
              "\n",
              "<style>\n",
              "  .colab-df-quickchart {\n",
              "      --bg-color: #E8F0FE;\n",
              "      --fill-color: #1967D2;\n",
              "      --hover-bg-color: #E2EBFA;\n",
              "      --hover-fill-color: #174EA6;\n",
              "      --disabled-fill-color: #AAA;\n",
              "      --disabled-bg-color: #DDD;\n",
              "  }\n",
              "\n",
              "  [theme=dark] .colab-df-quickchart {\n",
              "      --bg-color: #3B4455;\n",
              "      --fill-color: #D2E3FC;\n",
              "      --hover-bg-color: #434B5C;\n",
              "      --hover-fill-color: #FFFFFF;\n",
              "      --disabled-bg-color: #3B4455;\n",
              "      --disabled-fill-color: #666;\n",
              "  }\n",
              "\n",
              "  .colab-df-quickchart {\n",
              "    background-color: var(--bg-color);\n",
              "    border: none;\n",
              "    border-radius: 50%;\n",
              "    cursor: pointer;\n",
              "    display: none;\n",
              "    fill: var(--fill-color);\n",
              "    height: 32px;\n",
              "    padding: 0;\n",
              "    width: 32px;\n",
              "  }\n",
              "\n",
              "  .colab-df-quickchart:hover {\n",
              "    background-color: var(--hover-bg-color);\n",
              "    box-shadow: 0 1px 2px rgba(60, 64, 67, 0.3), 0 1px 3px 1px rgba(60, 64, 67, 0.15);\n",
              "    fill: var(--button-hover-fill-color);\n",
              "  }\n",
              "\n",
              "  .colab-df-quickchart-complete:disabled,\n",
              "  .colab-df-quickchart-complete:disabled:hover {\n",
              "    background-color: var(--disabled-bg-color);\n",
              "    fill: var(--disabled-fill-color);\n",
              "    box-shadow: none;\n",
              "  }\n",
              "\n",
              "  .colab-df-spinner {\n",
              "    border: 2px solid var(--fill-color);\n",
              "    border-color: transparent;\n",
              "    border-bottom-color: var(--fill-color);\n",
              "    animation:\n",
              "      spin 1s steps(1) infinite;\n",
              "  }\n",
              "\n",
              "  @keyframes spin {\n",
              "    0% {\n",
              "      border-color: transparent;\n",
              "      border-bottom-color: var(--fill-color);\n",
              "      border-left-color: var(--fill-color);\n",
              "    }\n",
              "    20% {\n",
              "      border-color: transparent;\n",
              "      border-left-color: var(--fill-color);\n",
              "      border-top-color: var(--fill-color);\n",
              "    }\n",
              "    30% {\n",
              "      border-color: transparent;\n",
              "      border-left-color: var(--fill-color);\n",
              "      border-top-color: var(--fill-color);\n",
              "      border-right-color: var(--fill-color);\n",
              "    }\n",
              "    40% {\n",
              "      border-color: transparent;\n",
              "      border-right-color: var(--fill-color);\n",
              "      border-top-color: var(--fill-color);\n",
              "    }\n",
              "    60% {\n",
              "      border-color: transparent;\n",
              "      border-right-color: var(--fill-color);\n",
              "    }\n",
              "    80% {\n",
              "      border-color: transparent;\n",
              "      border-right-color: var(--fill-color);\n",
              "      border-bottom-color: var(--fill-color);\n",
              "    }\n",
              "    90% {\n",
              "      border-color: transparent;\n",
              "      border-bottom-color: var(--fill-color);\n",
              "    }\n",
              "  }\n",
              "</style>\n",
              "\n",
              "  <script>\n",
              "    async function quickchart(key) {\n",
              "      const quickchartButtonEl =\n",
              "        document.querySelector('#' + key + ' button');\n",
              "      quickchartButtonEl.disabled = true;  // To prevent multiple clicks.\n",
              "      quickchartButtonEl.classList.add('colab-df-spinner');\n",
              "      try {\n",
              "        const charts = await google.colab.kernel.invokeFunction(\n",
              "            'suggestCharts', [key], {});\n",
              "      } catch (error) {\n",
              "        console.error('Error during call to suggestCharts:', error);\n",
              "      }\n",
              "      quickchartButtonEl.classList.remove('colab-df-spinner');\n",
              "      quickchartButtonEl.classList.add('colab-df-quickchart-complete');\n",
              "    }\n",
              "    (() => {\n",
              "      let quickchartButtonEl =\n",
              "        document.querySelector('#df-8ac96c30-7230-4889-b52b-8f5114ad5e42 button');\n",
              "      quickchartButtonEl.style.display =\n",
              "        google.colab.kernel.accessAllowed ? 'block' : 'none';\n",
              "    })();\n",
              "  </script>\n",
              "</div>\n",
              "\n",
              "    </div>\n",
              "  </div>\n"
            ],
            "application/vnd.google.colaboratory.intrinsic+json": {
              "type": "dataframe",
              "variable_name": "odf"
            }
          },
          "metadata": {},
          "execution_count": 7
        }
      ],
      "source": [
        "odf = pd.read_csv('/content/drive/MyDrive/Reviews.csv')\n",
        "odf['Helpful %'] = np.where(odf['HelpfulnessDenominator'] > 0, odf['HelpfulnessNumerator'] / odf['HelpfulnessDenominator'], -1)\n",
        "odf['% Upvote'] = pd.cut(odf['Helpful %'], bins = [-1, 0, 0.2, 0.4, 0.6, 0.8, 1.0], labels = ['Empty', '0-20%', '20-40%', '40-60%', '60-80%', '80-100%'], include_lowest = True)\n",
        "odf.head()"
      ]
    },
    {
      "cell_type": "code",
      "execution_count": null,
      "metadata": {
        "colab": {
          "base_uri": "https://localhost:8080/",
          "height": 944
        },
        "id": "YAlrPIt-dA3W",
        "outputId": "d505fa2a-da92-47a3-bf10-c0e6504491c2"
      },
      "outputs": [
        {
          "output_type": "stream",
          "name": "stderr",
          "text": [
            "<ipython-input-8-eb16511c8b2e>:1: FutureWarning: The default of observed=False is deprecated and will be changed to True in a future version of pandas. Pass observed=False to retain current behavior or observed=True to adopt the future default and silence this warning.\n",
            "  df_s = odf.groupby(['Score', '% Upvote']).agg({'Id': 'count'})\n"
          ]
        },
        {
          "output_type": "execute_result",
          "data": {
            "text/plain": [
              "Text(0.5, 1.0, 'How helpful users find among user scores')"
            ]
          },
          "metadata": {},
          "execution_count": 8
        },
        {
          "output_type": "display_data",
          "data": {
            "text/plain": [
              "<Figure size 1500x1000 with 2 Axes>"
            ],
            "image/png": "[encoded data removed]"
          },
          "metadata": {}
        }
      ],
      "source": [
        "df_s = odf.groupby(['Score', '% Upvote']).agg({'Id': 'count'})\n",
        "df_s = df_s.unstack()\n",
        "df_s.columns = df_s.columns.get_level_values(1)\n",
        "fig = plt.figure(figsize=(15,10))\n",
        "\n",
        "sns.heatmap(df_s[df_s.columns[::-1]].T, cmap = \"YlGnBu\", linewidths =.5, annot = True, fmt = 'd', cbar_kws={'label': '# reviews'})\n",
        "plt.yticks(rotation=0)\n",
        "plt.title('How helpful users find among user scores')"
      ]
    },
    {
      "cell_type": "markdown",
      "metadata": {
        "id": "VQhFFDOd8E2N"
      },
      "source": [
        "Key message from above:\n",
        "\n",
        "\n",
        "*   Reviews are skewed towards positive\n",
        "*   More than half of the reviews are with zero votes\n",
        "* Many people agree with score 5 reviews\n",
        "\n",
        "Then we get rid of score 3 reviews(Neutral), and separate the remaining reviews into binary class(1 = positive, 0 = negative):\n",
        "\n"
      ]
    },
    {
      "cell_type": "code",
      "execution_count": null,
      "metadata": {
        "id": "vULJfj1WeeEg"
      },
      "outputs": [],
      "source": [
        "df = odf[odf['Score'] !=3]\n",
        "X = df['Text']\n",
        "y_dict = {1:0, 2:0, 4:1, 5:1}\n",
        "y = df['Score'].map(y_dict)"
      ]
    },
    {
      "cell_type": "markdown",
      "metadata": {
        "id": "GgNJv-aH8qVp"
      },
      "source": [
        "# **Score Prediction**\n",
        "\n",
        "Logistic regression model on word count"
      ]
    },
    {
      "cell_type": "code",
      "execution_count": null,
      "metadata": {
        "colab": {
          "base_uri": "https://localhost:8080/"
        },
        "id": "3uzvPcct1416",
        "outputId": "c6c48776-47a6-4a06-810e-b54a6be2b67b"
      },
      "outputs": [
        {
          "output_type": "stream",
          "name": "stdout",
          "text": [
            "# features: 114969\n",
            "# train records: 394360\n",
            "# test records: 131454\n"
          ]
        },
        {
          "output_type": "stream",
          "name": "stderr",
          "text": [
            "/usr/local/lib/python3.10/dist-packages/sklearn/linear_model/_logistic.py:469: ConvergenceWarning: lbfgs failed to converge (status=1):\n",
            "STOP: TOTAL NO. of ITERATIONS REACHED LIMIT.\n",
            "\n",
            "Increase the number of iterations (max_iter) or scale the data as shown in:\n",
            "    https://scikit-learn.org/stable/modules/preprocessing.html\n",
            "Please also refer to the documentation for alternative solver options:\n",
            "    https://scikit-learn.org/stable/modules/linear_model.html#logistic-regression\n",
            "  n_iter_i = _check_optimize_result(\n"
          ]
        },
        {
          "output_type": "stream",
          "name": "stdout",
          "text": [
            "Model Accuracy: 0.9358711031995983\n",
            "\n",
            "-Top 20 positive-\n",
            "       Word  Coefficient\n",
            " pleasantly     4.081932\n",
            "   downside     3.008347\n",
            "  addicting     2.864740\n",
            "   drawback     2.589547\n",
            "  skeptical     2.404706\n",
            "     resist     2.311919\n",
            " economical     2.181748\n",
            "    easiest     2.157082\n",
            "   soothing     2.150020\n",
            "       whim     2.148405\n",
            "     hooked     2.104908\n",
            "  excellent     2.054492\n",
            "    welcome     2.021190\n",
            "  delighted     1.983211\n",
            "      meets     1.919180\n",
            "        yay     1.909928\n",
            "wonderfully     1.894116\n",
            "    awesome     1.889735\n",
            "    worries     1.889055\n",
            "     delish     1.881377\n",
            "\n",
            "-Top 20 negative-\n",
            "          Word  Coefficient\n",
            "         blech    -2.253169\n",
            "      terrible    -2.255888\n",
            "    unbearable    -2.279700\n",
            "    unfinished    -2.281733\n",
            "           ick    -2.370663\n",
            "disappointment    -2.376734\n",
            "    overpowers    -2.400302\n",
            "   disapointed    -2.438603\n",
            "   unappealing    -2.467081\n",
            "       defeats    -2.550793\n",
            "    returnable    -2.603048\n",
            "      mediocre    -2.619699\n",
            "        ripoff    -2.754350\n",
            "   embarrassed    -2.861503\n",
            "     cancelled    -2.978527\n",
            "         worst    -3.001922\n",
            " disappointing    -3.042202\n",
            "  unacceptable    -3.275175\n",
            "     deceptive    -3.404252\n",
            "   undrinkable    -3.511507\n"
          ]
        }
      ],
      "source": [
        "c = CountVectorizer(stop_words = 'english')\n",
        "\n",
        "def text_fit(X, y, model,clf_model,coef_show=1):\n",
        "\n",
        "    X_c = model.fit_transform(X)\n",
        "    print('# features: {}'.format(X_c.shape[1]))\n",
        "    X_train, X_test, y_train, y_test = train_test_split(X_c, y, random_state=0)\n",
        "    print('# train records: {}'.format(X_train.shape[0]))\n",
        "    print('# test records: {}'.format(X_test.shape[0]))\n",
        "    clf = clf_model.fit(X_train, y_train)\n",
        "    acc = clf.score(X_test, y_test)\n",
        "    print ('Model Accuracy: {}'.format(acc))\n",
        "\n",
        "    if coef_show == 1:\n",
        "        w = model.get_feature_names_out()\n",
        "        coef = clf.coef_.tolist()[0]\n",
        "        coeff_df = pd.DataFrame({'Word' : w, 'Coefficient' : coef})\n",
        "        coeff_df = coeff_df.sort_values(['Coefficient', 'Word'], ascending=[0, 1])\n",
        "        print('')\n",
        "        print('-Top 20 positive-')\n",
        "        print(coeff_df.head(20).to_string(index=False))\n",
        "        print('')\n",
        "        print('-Top 20 negative-')\n",
        "        print(coeff_df.tail(20).to_string(index=False))\n",
        "\n",
        "\n",
        "text_fit(X, y, c, LogisticRegression())"
      ]
    },
    {
      "cell_type": "markdown",
      "metadata": {
        "id": "VUEmsrLC9I7I"
      },
      "source": [
        "Accuracy is around 93.9% - not bad. However we notice that some of those significant coefficient are not meaningful.\n",
        "\n",
        "Let's also look at the base line accuracy (predicting with majority class, in this case positive class):"
      ]
    },
    {
      "cell_type": "code",
      "execution_count": null,
      "metadata": {
        "colab": {
          "base_uri": "https://localhost:8080/"
        },
        "id": "mxxcF04p9kub",
        "outputId": "af7b7dc5-1842-4862-a652-cfc21a1cd187"
      },
      "outputs": [
        {
          "output_type": "stream",
          "name": "stdout",
          "text": [
            "# features: 114969\n",
            "# train records: 394360\n",
            "# test records: 131454\n",
            "Model Accuracy: 0.8437324082949168\n"
          ]
        }
      ],
      "source": [
        "text_fit(X, y, c, DummyClassifier(),0)"
      ]
    },
    {
      "cell_type": "markdown",
      "metadata": {
        "id": "REERJO8jChRO"
      },
      "source": [
        "**Logistic regression model on TFIDF**"
      ]
    },
    {
      "cell_type": "code",
      "execution_count": null,
      "metadata": {
        "colab": {
          "base_uri": "https://localhost:8080/"
        },
        "id": "05MmVgdvClhP",
        "outputId": "7a6ac3b5-40bc-4d82-f40c-96fd0d5e54b0"
      },
      "outputs": [
        {
          "output_type": "stream",
          "name": "stdout",
          "text": [
            "# features: 114969\n",
            "# train records: 394360\n",
            "# test records: 131454\n",
            "Model Accuracy: 0.9324478524807157\n",
            "\n",
            "-Top 20 positive-\n",
            "     Word  Coefficient\n",
            "    great    13.899134\n",
            "delicious    12.626296\n",
            "  perfect    11.552890\n",
            "     best    11.362999\n",
            "excellent    10.864894\n",
            "   highly     9.825531\n",
            "    loves     9.421693\n",
            "     love     9.139284\n",
            "  amazing     9.122496\n",
            "  awesome     9.053956\n",
            "wonderful     8.706767\n",
            "    yummy     8.142166\n",
            "  pleased     8.125439\n",
            "fantastic     7.920065\n",
            "   smooth     7.801220\n",
            "   hooked     7.475357\n",
            "     glad     7.221367\n",
            "     good     6.954906\n",
            "    thank     6.922117\n",
            "     nice     6.711681\n",
            "\n",
            "-Top 20 negative-\n",
            "          Word  Coefficient\n",
            "         sadly    -6.079420\n",
            "           rip    -6.091603\n",
            "         hopes    -6.202092\n",
            "    unpleasant    -6.296242\n",
            "          poor    -6.351796\n",
            "         bland    -6.473530\n",
            "          yuck    -6.879776\n",
            "        return    -6.946868\n",
            "         threw    -7.273058\n",
            "         worse    -7.286475\n",
            " unfortunately    -7.316409\n",
            "    disgusting    -7.537229\n",
            "     tasteless    -7.828924\n",
            "      horrible    -7.942637\n",
            "         awful    -8.501710\n",
            "  disappointed    -8.572546\n",
            "disappointment    -9.585142\n",
            "      terrible   -10.001115\n",
            " disappointing   -11.796050\n",
            "         worst   -13.325006\n"
          ]
        }
      ],
      "source": [
        "tfdif = TfidfVectorizer(stop_words = 'english')\n",
        "text_fit(X, y, tfdif, LogisticRegression())"
      ]
    },
    {
      "cell_type": "markdown",
      "metadata": {
        "id": "vIMGNI3gDUlf"
      },
      "source": [
        "Accuracy is roughly the same - 93.5%. However we notice that significant words make much more sense now, with higher coefficient magnitude as well!"
      ]
    },
    {
      "cell_type": "markdown",
      "metadata": {
        "id": "Tpd3uVwKDpTP"
      },
      "source": [
        "**Logistic regression model on TFIDF + ngram**"
      ]
    },
    {
      "cell_type": "code",
      "execution_count": null,
      "metadata": {
        "colab": {
          "base_uri": "https://localhost:8080/"
        },
        "id": "rpPIW8lkDwtI",
        "outputId": "fc37135d-7475-4a16-ea79-adc9bf7b8863"
      },
      "outputs": [
        {
          "output_type": "stream",
          "name": "stdout",
          "text": [
            "# features: 3933179\n",
            "# train records: 394360\n",
            "# test records: 131454\n",
            "Model Accuracy: 0.9440032254628996\n",
            "\n",
            "-Top 20 positive-\n",
            "     Word  Coefficient\n",
            "    great    20.494694\n",
            "delicious    17.893098\n",
            "     best    17.359653\n",
            "  perfect    15.468515\n",
            "excellent    14.130888\n",
            "     love    13.872813\n",
            "    loves    13.674790\n",
            "wonderful    12.157343\n",
            "     good    12.146601\n",
            "  amazing    10.809740\n",
            "     nice    10.716120\n",
            " favorite    10.546447\n",
            "  awesome    10.504931\n",
            "  pleased    10.032497\n",
            "   smooth     9.577041\n",
            "    yummy     9.514872\n",
            "     easy     9.224219\n",
            "    happy     8.943219\n",
            "   highly     8.881697\n",
            "     glad     8.737520\n",
            "\n",
            "-Top 20 negative-\n",
            "          Word  Coefficient\n",
            "       thought    -8.182725\n",
            "         sorry    -8.245294\n",
            "          poor    -8.340052\n",
            "        hoping    -8.736594\n",
            "     tasteless    -8.951255\n",
            "         worse    -9.162558\n",
            "    disgusting    -9.540418\n",
            "          weak    -9.677262\n",
            "         bland    -9.766144\n",
            "         threw    -9.789610\n",
            "         stale    -9.861784\n",
            "        return   -10.565374\n",
            "disappointment   -11.257928\n",
            " unfortunately   -11.458264\n",
            "      horrible   -11.793120\n",
            "         awful   -12.413225\n",
            "      terrible   -13.950113\n",
            "  disappointed   -14.152539\n",
            " disappointing   -14.778017\n",
            "         worst   -16.645107\n"
          ]
        }
      ],
      "source": [
        "tfidf_n = TfidfVectorizer(ngram_range=(1, 2), stop_words = 'english')\n",
        "text_fit(X, y, tfidf_n, LogisticRegression())"
      ]
    },
    {
      "cell_type": "markdown",
      "metadata": {
        "id": "NWqFo7tnMm4x"
      },
      "source": [
        "Adding ngram parameter, we are able to understand phrase like \"not good\". Therefore the accuracy goes up a bit to 94.5%. We can see words like \"tasty, yummy\" in the result."
      ]
    },
    {
      "cell_type": "markdown",
      "metadata": {
        "id": "JXgWNvdoNAeq"
      },
      "source": [
        "# **Upvote prediction**\n",
        "\n",
        "**Data preview**\n",
        "\n",
        "This study is to see whether is pattern found for unpopular(downvote) comments by users(might be used to boost sales). We will be focusing on score 5 reviews, and get rid of comments with neutral votes:*italicized text*"
      ]
    },
    {
      "cell_type": "code",
      "execution_count": null,
      "metadata": {
        "colab": {
          "base_uri": "https://localhost:8080/"
        },
        "id": "4P592D0KNEG6",
        "outputId": "91410a35-ccfc-4990-8b84-ec7f2d74f713"
      },
      "outputs": [
        {
          "output_type": "stream",
          "name": "stdout",
          "text": [
            "Class distribution:\n",
            "% Upvote\n",
            "1.0    151721\n",
            "0.0      2707\n",
            "Name: count, dtype: int64\n"
          ]
        }
      ],
      "source": [
        "df = df[df['Score'] == 5]\n",
        "df = df[df['% Upvote'].isin(['0-20%', '20-40%', '60-80%', '80-100%'])]\n",
        "df.shape\n",
        "\n",
        "X = df['Text']\n",
        "y_dict = {'0-20%': 0, '20-40%': 0, '60-80%': 1, '80-100%': 1}\n",
        "y = df['% Upvote'].map(y_dict)\n",
        "\n",
        "print('Class distribution:')\n",
        "print(y.value_counts())"
      ]
    },
    {
      "cell_type": "markdown",
      "metadata": {
        "id": "e3JcZw13OuAj"
      },
      "source": [
        "The traget class is highly skewed to positive (upvotes). Let's resample the data to get balanced data:"
      ]
    },
    {
      "cell_type": "code",
      "execution_count": null,
      "metadata": {
        "colab": {
          "base_uri": "https://localhost:8080/"
        },
        "id": "ypD_k6mDO3IK",
        "outputId": "3224af16-46f2-47c5-f2ff-c64a83432a45"
      },
      "outputs": [
        {
          "output_type": "stream",
          "name": "stdout",
          "text": [
            "Percentage of upvote transactions:  0.5\n",
            "Percentage of downvote transactions:  0.5\n",
            "Total number of records in resampled data:  5414\n"
          ]
        }
      ],
      "source": [
        "df_s = pd.DataFrame(data = [X,y]).T\n",
        "\n",
        "Downvote_records = len(df_s[df_s['% Upvote'] == 0])\n",
        "Downvote_indices = np.array(df_s[df_s['% Upvote'] == 0].index)\n",
        "\n",
        "Upvote_indices = df_s[df_s['% Upvote'] == 1].index\n",
        "\n",
        "random_upvote_indices = np.random.choice(Upvote_indices, Downvote_records, replace = False)\n",
        "random_upvote_indices = np.array(random_upvote_indices)\n",
        "\n",
        "under_sample_indices = np.concatenate([Downvote_indices,random_upvote_indices])\n",
        "\n",
        "under_sample_data = df_s.loc[under_sample_indices, :]\n",
        "X_u = under_sample_data['Text']\n",
        "under_sample_data['% Upvote'] = under_sample_data['% Upvote'].astype(int)\n",
        "y_u = under_sample_data['% Upvote']\n",
        "\n",
        "\n",
        "print(\"Percentage of upvote transactions: \", len(under_sample_data[under_sample_data['% Upvote'] == 1])/len(under_sample_data))\n",
        "print(\"Percentage of downvote transactions: \", len(under_sample_data[under_sample_data['% Upvote'] == 0])/len(under_sample_data))\n",
        "print(\"Total number of records in resampled data: \", len(under_sample_data))"
      ]
    },
    {
      "cell_type": "markdown",
      "metadata": {
        "id": "O4pmj6q7T3zw"
      },
      "source": [
        "**Logic regression model on word count**"
      ]
    },
    {
      "cell_type": "code",
      "execution_count": null,
      "metadata": {
        "colab": {
          "base_uri": "https://localhost:8080/"
        },
        "id": "Yi_v-jA0T8aj",
        "outputId": "ba7786bc-a2f6-4172-cb02-9f12a9953c28"
      },
      "outputs": [
        {
          "output_type": "stream",
          "name": "stdout",
          "text": [
            "# features: 15845\n",
            "# train records: 4060\n",
            "# test records: 1354\n",
            "Model Accuracy: 0.7149187592319055\n",
            "\n",
            "-Top 20 positive-\n",
            "         Word  Coefficient\n",
            "       prices     1.338990\n",
            "         chai     1.253492\n",
            "   assortment     1.181159\n",
            "    favorites     1.156123\n",
            "       orange     1.135715\n",
            "       bitter     1.113367\n",
            "      suggest     1.106371\n",
            "  outstanding     1.100302\n",
            "        value     1.088277\n",
            "       overly     1.077395\n",
            "    allergies     1.072853\n",
            "          com     1.062583\n",
            "      noticed     1.061656\n",
            "      crunchy     1.047355\n",
            "      mustard     1.040087\n",
            "        soooo     1.028779\n",
            "       single     1.022459\n",
            "      dessert     1.019297\n",
            "unfortunately     1.004662\n",
            "     benefits     0.999879\n",
            "\n",
            "-Top 20 negative-\n",
            "     Word  Coefficient\n",
            "    batch    -0.973393\n",
            "   skinny    -1.002131\n",
            "    money    -1.006768\n",
            "   easier    -1.016361\n",
            "  weather    -1.019824\n",
            "     miss    -1.025011\n",
            "     sick    -1.026476\n",
            "    kashi    -1.048124\n",
            "   caviar    -1.058149\n",
            "satisfies    -1.079266\n",
            "     zico    -1.100435\n",
            " brooklyn    -1.171496\n",
            "   course    -1.224900\n",
            "   lipton    -1.228200\n",
            "   joints    -1.230305\n",
            "    items    -1.237196\n",
            "    wrong    -1.251583\n",
            "   cooked    -1.276401\n",
            "   marley    -1.596765\n",
            "   seller    -1.975628\n"
          ]
        }
      ],
      "source": [
        "c = CountVectorizer(stop_words = 'english')\n",
        "\n",
        "text_fit(X_u, y_u, c, LogisticRegression())"
      ]
    },
    {
      "cell_type": "markdown",
      "metadata": {
        "id": "j-MBzYIuVaNH"
      },
      "source": [
        "The words look no sense at all, and the coefficient are very small."
      ]
    },
    {
      "cell_type": "markdown",
      "metadata": {
        "id": "usEio7adVhX2"
      },
      "source": [
        "**Logistic regression model on TFIDF + ngram**"
      ]
    },
    {
      "cell_type": "code",
      "execution_count": null,
      "metadata": {
        "colab": {
          "base_uri": "https://localhost:8080/"
        },
        "id": "AtCZR4mdVpKW",
        "outputId": "21d1481e-33ab-4d9a-d61f-44d8cbee3553"
      },
      "outputs": [
        {
          "output_type": "stream",
          "name": "stdout",
          "text": [
            "# features: 141640\n",
            "# train records: 4060\n",
            "# test records: 1354\n",
            "Model Accuracy: 0.7437223042836041\n",
            "\n",
            "-Top 20 positive-\n",
            "   Word  Coefficient\n",
            "   food     1.764670\n",
            "    mix     1.544205\n",
            " flavor     1.523363\n",
            "   salt     1.482913\n",
            "   make     1.301472\n",
            "chicken     1.286614\n",
            "    bag     1.265518\n",
            "  small     1.243245\n",
            "   just     1.204780\n",
            "    box     1.144770\n",
            "  chips     1.070522\n",
            " gluten     1.022344\n",
            "  foods     1.006903\n",
            "   rice     0.975110\n",
            "  white     0.957422\n",
            "  value     0.923050\n",
            "started     0.910896\n",
            " bitter     0.904889\n",
            "flavors     0.891592\n",
            "    tea     0.884530\n",
            "\n",
            "-Top 20 negative-\n",
            "        Word  Coefficient\n",
            "         pod    -0.844243\n",
            "        wish    -0.869475\n",
            "       wrong    -0.879583\n",
            "       order    -0.918703\n",
            "great coffee    -0.927781\n",
            "      people    -0.934853\n",
            "      thanks    -0.995434\n",
            "     pleased    -1.021566\n",
            "  cappuccino    -1.024586\n",
            "      coffee    -1.038763\n",
            "       money    -1.077416\n",
            "      lipton    -1.104888\n",
            "      marley    -1.112737\n",
            "        know    -1.198308\n",
            "        zico    -1.228037\n",
            "     product    -1.289563\n",
            "      seller    -1.405553\n",
            "       drink    -1.689586\n",
            "       water    -1.920388\n",
            "          br    -1.969414\n"
          ]
        }
      ],
      "source": [
        "tfidf_n = TfidfVectorizer(ngram_range=(1,2),stop_words = 'english')\n",
        "\n",
        "text_fit(X_u, y_u, tfidf_n, LogisticRegression())"
      ]
    },
    {
      "cell_type": "markdown",
      "metadata": {
        "id": "tzj0RQ22V98z"
      },
      "source": [
        "Similar to count metric, the accuracy isn't high and words not meaningful."
      ]
    },
    {
      "cell_type": "markdown",
      "metadata": {
        "id": "yXE5eRU3WIQ3"
      },
      "source": [
        "**Study on non-context features**"
      ]
    },
    {
      "cell_type": "markdown",
      "metadata": {
        "id": "VSIa8MJ3WMQj"
      },
      "source": [
        "Let's look at some examples of upvote and downvote comments:"
      ]
    },
    {
      "cell_type": "code",
      "execution_count": null,
      "metadata": {
        "colab": {
          "base_uri": "https://localhost:8080/"
        },
        "id": "jk_ii63SWQ3V",
        "outputId": "3d2317ce-316c-438a-e723-4867c676452e"
      },
      "outputs": [
        {
          "output_type": "stream",
          "name": "stdout",
          "text": [
            "Downvote score comments examples: \n",
            "207      Hard to find the wintergreen smalls [sugar fre...\n",
            "4511     Wonderful, smooth, satisfying decaf coffee wit...\n",
            "7787     My husband is a big coffee drinker, and with a...\n",
            "12072    We love French roast coffee and my husband mus...\n",
            "13671    THIS IS A LOVELY VERY HEALTHY TREE,ALONG WITH ...\n",
            "Name: Text, dtype: object\n"
          ]
        }
      ],
      "source": [
        "#pd.set_option('display.max_colwidth', -1)\n",
        "print('Downvote score comments examples: ')\n",
        "print(under_sample_data[under_sample_data['% Upvote']==0]['Text'].iloc[:100:20])\n"
      ]
    },
    {
      "cell_type": "markdown",
      "metadata": {
        "id": "HLqv0iuYXEK0"
      },
      "source": [
        "Time to extract some possible features:"
      ]
    },
    {
      "cell_type": "code",
      "execution_count": null,
      "metadata": {
        "colab": {
          "base_uri": "https://localhost:8080/"
        },
        "id": "lfWWLzUCXG3Q",
        "outputId": "c7e427f4-0c48-472c-ae43-61929af95ba3"
      },
      "outputs": [
        {
          "output_type": "stream",
          "name": "stdout",
          "text": [
            "% Upvote                  0          1\n",
            "word_count        83.927226  85.893240\n",
            "capital_count     19.252678  13.128556\n",
            "question_mark      0.180273   0.063170\n",
            "exclamation_mark   0.906169   0.927965\n",
            "punctuation       22.482822  18.704839\n"
          ]
        }
      ],
      "source": [
        "under_sample_data['word_count'] = under_sample_data['Text'].apply(lambda x: len(x.split()))\n",
        "under_sample_data['capital_count'] = under_sample_data['Text'].apply(lambda x: sum(1 for c in x if c.isupper()))\n",
        "under_sample_data['question_mark'] = under_sample_data['Text'].apply(lambda x: sum(1 for c in x if c == '?'))\n",
        "under_sample_data['exclamation_mark'] = under_sample_data['Text'].apply(lambda x: sum(1 for c in x if c =='!'))\n",
        "under_sample_data['punctuation'] = under_sample_data['Text'].apply(lambda x: sum(1 for c in x if c in punctuation))\n",
        "\n",
        "print(under_sample_data.groupby('% Upvote').agg({'word_count': 'mean', 'capital_count': 'mean', 'question_mark': 'mean', 'exclamation_mark': 'mean', 'punctuation': 'mean'}).T)\n",
        "\n",
        "X_num = under_sample_data[under_sample_data.columns.difference(['% Upvote', 'Text'])]\n",
        "y_num = under_sample_data['% Upvote']"
      ]
    },
    {
      "cell_type": "markdown",
      "metadata": {
        "id": "PIKcTHa9ZsAE"
      },
      "source": [
        "Now we train the model to predict:"
      ]
    },
    {
      "cell_type": "code",
      "execution_count": null,
      "metadata": {
        "colab": {
          "base_uri": "https://localhost:8080/"
        },
        "id": "SHF9nuxZZugF",
        "outputId": "85ae4c59-0e50-4fff-8092-6c9e293954c7"
      },
      "outputs": [
        {
          "output_type": "stream",
          "name": "stdout",
          "text": [
            "Logistic Regression accuracy: 0.5923190546528804\n",
            "SVM accuracy: 0.5782865583456426\n"
          ]
        }
      ],
      "source": [
        "X_train, X_test, y_train, y_test = train_test_split(X_num, y_num, random_state=0)\n",
        "\n",
        "clf_lr = LogisticRegression().fit(X_train, y_train)\n",
        "acc_lr = clf_lr.score(X_test, y_test)\n",
        "print('Logistic Regression accuracy: {}'.format(acc_lr))\n",
        "\n",
        "clf_svm = svm.SVC().fit(X_train, y_train)\n",
        "acc_svm = clf_svm.score(X_test, y_test)\n",
        "print('SVM accuracy: {}'.format(acc_svm))"
      ]
    },
    {
      "cell_type": "markdown",
      "metadata": {
        "id": "g9Cw7ruXayBc"
      },
      "source": [
        "Accuracy is lower than context features we tried above, meaning the feature is not good enough to predict our target."
      ]
    },
    {
      "cell_type": "markdown",
      "metadata": {
        "id": "vs4aQSVZa7Zg"
      },
      "source": [
        "# **In-depth study on user behaviour**"
      ]
    },
    {
      "cell_type": "markdown",
      "metadata": {
        "id": "6ht1BbFNbAlU"
      },
      "source": [
        "This analysis will be carried out to focus on one specific user, on what he/she likes in terms of fine food, based on the reviews he/she had given in the past. This can be expanded to all users later on.\n",
        "\n",
        "First let's look at how many reviews each user gave in the past:"
      ]
    },
    {
      "cell_type": "code",
      "execution_count": null,
      "metadata": {
        "colab": {
          "base_uri": "https://localhost:8080/"
        },
        "id": "LeSzub_ybQhg",
        "outputId": "381e468a-1346-4db9-bd2a-f54fae44f8e3"
      },
      "outputs": [
        {
          "output_type": "stream",
          "name": "stdout",
          "text": [
            "                                                       Score count  Score mean\n",
            "UserId         ProfileName                                                    \n",
            "A3OXHLG6DIBRW8 C. F. Hill \"CFH\"                                448    4.535714\n",
            "A1YUL9PCJR3JTY O. Brown \"Ms. O. Khannah-Brown\"                 421    4.494062\n",
            "AY12DBB0U420B  Gary Peterson                                   389    4.647815\n",
            "A281NPSIMI1C2R Rebecca of Amazon \"The Rebecca Review\"          365    4.841096\n",
            "A1Z54EM24Y40LL c2                                              256    4.453125\n",
            "A1TMAVN4CEM8U8 Gunner                                          204    4.833333\n",
            "A2MUGFV2TDQ47K Lynrie \"Oh HELL no\"                             201    3.751244\n",
            "A3TVZM3ZIXG8YW christopher hayes                               199    1.000000\n",
            "A3PJZ8TU8FDQ1K Jared Castle                                    178    4.601124\n",
            "AQQLWCMRNDFGI  Steven A. Peterson                              176    3.954545\n"
          ]
        }
      ],
      "source": [
        "df_user = odf.groupby(['UserId', 'ProfileName']).agg({'Score':['count', 'mean']})\n",
        "df_user.columns = df_user.columns.get_level_values(1)\n",
        "df_user.columns = ['Score count', 'Score mean']\n",
        "df_user = df_user.sort_values(by = 'Score count', ascending=False)\n",
        "print(df_user.head(10))"
      ]
    },
    {
      "cell_type": "markdown",
      "metadata": {
        "id": "WvD-ddprb-jN"
      },
      "source": [
        "The user with most frequent reviews are \"CFH\" with 448 reviews and average score 4.54. Let's look at his review distribution:"
      ]
    },
    {
      "cell_type": "code",
      "execution_count": null,
      "metadata": {
        "colab": {
          "base_uri": "https://localhost:8080/",
          "height": 867
        },
        "id": "TAAU5Fz4cMbR",
        "outputId": "07bd18ae-ddc2-4d27-c70b-43f505f263d1"
      },
      "outputs": [
        {
          "output_type": "display_data",
          "data": {
            "text/plain": [
              "<Figure size 1500x1000 with 1 Axes>"
            ],
            "image/png": "[encoded data removed]"
          },
          "metadata": {}
        }
      ],
      "source": [
        "def plot_user(UserId):\n",
        "  df_1user = odf[odf['UserId'] == UserId]['Score']\n",
        "  df_1user_plot = df_1user.value_counts(sort=False)\n",
        "  ax = df_1user_plot.plot(kind = 'bar', figsize = (15, 10), title = 'Score distribution of user {} review'.format(odf[odf['UserId'] == UserId]['ProfileName'].iloc[0]))\n",
        "\n",
        "plot_user('A3OXHLG6DIBRW8')"
      ]
    },
    {
      "cell_type": "markdown",
      "metadata": {
        "id": "quM9eBpgd17Y"
      },
      "source": [
        "It looks user \"CFH\" prefer to give high score a lot. I would rather analyze a more neutral user, let's look into that:"
      ]
    },
    {
      "cell_type": "code",
      "execution_count": null,
      "metadata": {
        "colab": {
          "base_uri": "https://localhost:8080/"
        },
        "id": "G4uhrm4Bd_iI",
        "outputId": "a058facd-6f1f-4c03-9249-856da3a9a09f"
      },
      "outputs": [
        {
          "output_type": "stream",
          "name": "stdout",
          "text": [
            "                                Score count  Score mean\n",
            "UserId         ProfileName                             \n",
            "A35R32TA60XD57 M. Torma                 141    3.460993\n",
            "A2M9D9BDHONV3Y A. Bennett               115    3.269565\n",
            "A2TN9C5E4A0I3F Jimmy                    110    2.727273\n",
            "A2XNJJ9TF70P4J Angie                     85    2.976471\n",
            "AJB5P7GVR0MT8  Harry the Horse           70    3.257143\n"
          ]
        }
      ],
      "source": [
        "print(df_user[(df_user['Score mean']<3.5) & (df_user['Score mean']>2.5)].head())"
      ]
    },
    {
      "cell_type": "markdown",
      "metadata": {
        "id": "9SdsauUMhIOf"
      },
      "source": [
        "A. Benett seems a good target:"
      ]
    },
    {
      "cell_type": "code",
      "execution_count": null,
      "metadata": {
        "colab": {
          "base_uri": "https://localhost:8080/",
          "height": 867
        },
        "id": "0CIqoFYihLnJ",
        "outputId": "612f3c7f-e0a6-4b57-fb76-1e0889640dd0"
      },
      "outputs": [
        {
          "output_type": "display_data",
          "data": {
            "text/plain": [
              "<Figure size 1500x1000 with 1 Axes>"
            ],
            "image/png": "[encoded data removed]"
          },
          "metadata": {}
        }
      ],
      "source": [
        "plot_user('A2M9D9BDHONV3Y')"
      ]
    },
    {
      "cell_type": "code",
      "execution_count": null,
      "metadata": {
        "colab": {
          "base_uri": "https://localhost:8080/"
        },
        "id": "yJ2NEgUz5NcE",
        "outputId": "e6381529-3439-4682-b872-86379d9359bf"
      },
      "outputs": [
        {
          "output_type": "stream",
          "name": "stdout",
          "text": [
            "                                Score count  Score mean\n",
            "UserId         ProfileName                             \n",
            "A35R32TA60XD57 M. Torma                 141    3.460993\n",
            "A2M9D9BDHONV3Y A. Bennett               115    3.269565\n",
            "A2TN9C5E4A0I3F Jimmy                    110    2.727273\n",
            "A2XNJJ9TF70P4J Angie                     85    2.976471\n",
            "AJB5P7GVR0MT8  Harry the Horse           70    3.257143\n"
          ]
        }
      ],
      "source": [
        "print(df_user[(df_user['Score mean']<3.5) & (df_user['Score mean']>2.5)].head())"
      ]
    },
    {
      "cell_type": "markdown",
      "metadata": {
        "id": "D2jCswEQhVMt"
      },
      "source": [
        "He seems like a better analysis target! Now let's look deep into his reviews:"
      ]
    },
    {
      "cell_type": "code",
      "source": [
        "def get_token_ngram(score, benchmark, userid='all'):\n",
        "    if userid != 'all':\n",
        "        df = odf[(odf['UserId'] == userid) & (odf['Score'] == score)]['Text']\n",
        "    else:\n",
        "        df = odf[odf['Score'] == score]['Text']\n",
        "\n",
        "    count = len(df)\n",
        "    total_text = ' '.join(df)\n",
        "    total_text = total_text.lower()\n",
        "    stop = set(stopwords.words('english'))\n",
        "    total_text = nltk.word_tokenize(total_text)\n",
        "    total_text = [word for word in total_text if word not in stop and len(word) >= 3]\n",
        "    lemmatizer = WordNetLemmatizer()\n",
        "    total_text = [lemmatizer.lemmatize(w, 'v') for w in total_text]\n",
        "    bigrams = ngrams(total_text, 2)\n",
        "    trigrams = ngrams(total_text, 3)\n",
        "\n",
        "    # Combine 2-gram and 3-gram\n",
        "    combine = chain(bigrams, trigrams)\n",
        "    text = nltk.Text(combine)\n",
        "    fdist = nltk.FreqDist(text)\n",
        "\n",
        "    # Return phrases that occur more than benchmark of user's reviews\n",
        "    return sorted([(w, fdist[w], str(round(fdist[w] / count * 100, 2)) + '%') for w in set(text) if fdist[w] >= count * benchmark], key=lambda x: -x[1])\n",
        "\n",
        "# Score 1-5 reviews for the user\n",
        "index = ['Phrase', 'Count', 'Occur %']\n",
        "\n",
        "for j in range(1, 6):\n",
        "    test = pd.DataFrame()\n",
        "    d = get_token_ngram(j, 0.25, 'A2M9D9BDHONV3Y')\n",
        "    print('Score {} reviews most popular 2-gram / 3-gram:'.format(j))\n",
        "    for i in d:\n",
        "        # Use pd.concat instead of append\n",
        "        test = pd.concat([test, pd.DataFrame([i], columns=index)], ignore_index=True)\n",
        "    test = test.sort_values('Count', ascending=False)\n",
        "    print(test)"
      ],
      "metadata": {
        "colab": {
          "base_uri": "https://localhost:8080/"
        },
        "id": "Znt2ILkgGRRy",
        "outputId": "5eee867c-a1eb-4009-cd0c-7c97c49407d5"
      },
      "execution_count": null,
      "outputs": [
        {
          "output_type": "stream",
          "name": "stdout",
          "text": [
            "Score 1 reviews most popular 2-gram / 3-gram:\n",
            "                    Phrase  Count Occur %\n",
            "0             (never, buy)     11  42.31%\n",
            "1           (buy, product)      9  34.62%\n",
            "2  (monosodium, glutamate)      8  30.77%\n",
            "3    (never, buy, product)      8  30.77%\n",
            "4          (picture, look)      7  26.92%\n",
            "5            (decide, try)      7  26.92%\n",
            "6         (dry, tasteless)      7  26.92%\n",
            "Score 2 reviews most popular 2-gram / 3-gram:\n",
            "                  Phrase  Count Occur %\n",
            "0          (ruin, whole)      8  47.06%\n",
            "1   (sauce, ruin, whole)      8  47.06%\n",
            "2          (sauce, ruin)      8  47.06%\n",
            "3            (give, try)      7  41.18%\n",
            "4        (product, ever)      6  35.29%\n",
            "5             (n't, buy)      6  35.29%\n",
            "6           (get, wrong)      5  29.41%\n",
            "7      (give, try, like)      5  29.41%\n",
            "8      (...., give, try)      5  29.41%\n",
            "9      (n't, get, wrong)      5  29.41%\n",
            "10            (n't, get)      5  29.41%\n",
            "11     (buy, particular)      5  29.41%\n",
            "12           (try, like)      5  29.41%\n",
            "13          (...., give)      5  29.41%\n",
            "14         (taste, like)      5  29.41%\n",
            "Score 3 reviews most popular 2-gram / 3-gram:\n",
            "          Phrase  Count Occur %\n",
            "0   (whole, lot)      4  28.57%\n",
            "1  (taste, like)      4  28.57%\n",
            "Score 4 reviews most popular 2-gram / 3-gram:\n",
            "                Phrase  Count Occur %\n",
            "0  (highly, recommend)      6   37.5%\n",
            "1         (side, dish)      5  31.25%\n",
            "2       (potato, chip)      4   25.0%\n",
            "Score 5 reviews most popular 2-gram / 3-gram:\n",
            "                Phrase  Count Occur %\n",
            "0  (highly, recommend)     18  42.86%\n"
          ]
        }
      ]
    },
    {
      "cell_type": "markdown",
      "metadata": {
        "id": "uucAxDdURlAc"
      },
      "source": [
        "Seems like A. bennett likes to use something like \"give it a try\" for score 2 reviews and \"highly recommend\" for score 5 reviews (without other frequent phrases). But Sample size is very small.\n",
        "\n",
        "Let's look at full picture now instead of just one usr:"
      ]
    },
    {
      "cell_type": "code",
      "execution_count": null,
      "metadata": {
        "colab": {
          "base_uri": "https://localhost:8080/"
        },
        "id": "Nw6PmD3jSOwl",
        "outputId": "f69287e1-36a1-451e-fd57-fa0d664fa595"
      },
      "outputs": [
        {
          "output_type": "stream",
          "name": "stdout",
          "text": [
            "Score 1 reviews most popular 2-gram / 3-gram:\n",
            "           Phrase  Count Occur %\n",
            "0   (taste, like)   5547  10.61%\n",
            "1  (waste, money)   2330   4.46%\n",
            "2    (could, n't)   2175   4.16%\n",
            "3     (n't, even)   2111   4.04%\n",
            "4     (n't, know)   1809   3.46%\n",
            "5    (would, n't)   1794   3.43%\n",
            "6      (n't, buy)   1645   3.15%\n",
            "Score 2 reviews most popular 2-gram / 3-gram:\n",
            "           Phrase  Count Occur %\n",
            "0   (taste, like)   3161  10.62%\n",
            "1     (n't, like)   1362   4.58%\n",
            "2    (would, n't)   1304   4.38%\n",
            "3  (think, would)   1086   3.65%\n",
            "4      (n't, buy)   1064   3.57%\n",
            "5     (n't, know)   1010   3.39%\n",
            "6    (n't, taste)    996   3.35%\n",
            "7    (could, n't)    945   3.17%\n",
            "8   (taste, good)    912   3.06%\n",
            "Score 3 reviews most popular 2-gram / 3-gram:\n",
            "           Phrase  Count Occur %\n",
            "0   (taste, like)   3240    7.6%\n",
            "1    (would, n't)   1632   3.83%\n",
            "2     (n't, like)   1612   3.78%\n",
            "3   (taste, good)   1557   3.65%\n",
            "4   (href=, http)   1463   3.43%\n",
            "5     (n't, know)   1406    3.3%\n",
            "6  (think, would)   1301   3.05%\n",
            "Score 4 reviews most popular 2-gram / 3-gram:\n",
            "           Phrase  Count Occur %\n",
            "0   (taste, like)   4358    5.4%\n",
            "1   (taste, good)   3207   3.98%\n",
            "2   (href=, http)   3011   3.73%\n",
            "3  (pretty, good)   2821    3.5%\n",
            "4  (really, like)   2743    3.4%\n",
            "5     (n't, like)   2428   3.01%\n",
            "Score 5 reviews most popular 2-gram / 3-gram:\n",
            "                Phrase  Count Occur %\n",
            "0  (highly, recommend)  17542   4.83%\n",
            "1        (taste, like)  14458   3.98%\n",
            "2     (grocery, store)  11772   3.24%\n",
            "3       (taste, great)  11516   3.17%\n"
          ]
        }
      ],
      "source": [
        "index = ['Phrase', 'Count', 'Occur %']\n",
        "\n",
        "for j in range(1, 6):\n",
        "    test = pd.DataFrame()\n",
        "    # Adjusted benchmark since we have multiple users with diverse phrases\n",
        "    d = get_token_ngram(j, 0.03)\n",
        "    print('Score {} reviews most popular 2-gram / 3-gram:'.format(j))\n",
        "    for i in d:\n",
        "        # Replace append with pd.concat\n",
        "        test = pd.concat([test, pd.DataFrame([i], columns=index)], ignore_index=True)\n",
        "    test = test.sort_values('Count', ascending=False)\n",
        "    print(test)"
      ]
    },
    {
      "cell_type": "markdown",
      "metadata": {
        "id": "UqzTVvdAEnO5"
      },
      "source": []
    },
    {
      "cell_type": "code",
      "execution_count": null,
      "metadata": {
        "id": "sAs-2wADEb8w"
      },
      "outputs": [],
      "source": [
        "def get_token_adj(score, benchmark, userid='all'):\n",
        "\n",
        "    if userid != 'all':\n",
        "        df = odf[(odf['UserId'] == userid) & (odf['Score'] == score)]['Text']\n",
        "    else:\n",
        "        df = odf[odf['Score'] == score]['Text']\n",
        "\n",
        "    count = len(df)\n",
        "    total_text = ' '.join(df)\n",
        "    total_text = total_text.lower()\n",
        "    stop = set(stopwords.words('english'))\n",
        "    total_text = nltk.word_tokenize(total_text)\n",
        "    total_text = [word for word in total_text if word not in stop and len(word) >= 3]\n",
        "    lemmatizer = WordNetLemmatizer()\n",
        "    total_text = [lemmatizer.lemmatize(w,'a') for w in total_text]\n",
        "    # get adjective only\n",
        "    total_text = [word for word, form in nltk.pos_tag(total_text) if form == 'JJ']\n",
        "\n",
        "    text = nltk.Text(total_text)\n",
        "    fdist = nltk.FreqDist(text)\n",
        "\n",
        "    # return only phrase occurs more than benchmark of his reviews\n",
        "    return sorted([(w,fdist[w],str(round(fdist[w]/count*100,2))+'%') for w in set(text) if fdist[w] >= count*benchmark], key=lambda x: -x[1])"
      ]
    },
    {
      "cell_type": "markdown",
      "metadata": {
        "id": "hIM8zTX1EolG"
      },
      "source": [
        "Let's look at user A. Benett again"
      ]
    },
    {
      "cell_type": "code",
      "execution_count": null,
      "metadata": {
        "id": "emAs_5SxEywt",
        "colab": {
          "base_uri": "https://localhost:8080/"
        },
        "outputId": "7736ef8e-4497-4a11-d5a4-9a38c44824fa"
      },
      "outputs": [
        {
          "output_type": "stream",
          "name": "stdout",
          "text": [
            "Score 1 reviews most popular adjectives word:\n",
            "      Phrase  Count Occur %\n",
            "0        dry     13   50.0%\n",
            "1     cheese     12  46.15%\n",
            "2        bad     10  38.46%\n",
            "3     little     10  38.46%\n",
            "4       hard      8  30.77%\n",
            "5  delicious      8  30.77%\n",
            "6      tasty      8  30.77%\n",
            "7  expensive      8  30.77%\n",
            "8      bread      7  26.92%\n",
            "9       poor      7  26.92%\n",
            "Score 2 reviews most popular adjectives word:\n",
            "       Phrase  Count Occur %\n",
            "0       whole     10  58.82%\n",
            "1      cheese      8  47.06%\n",
            "2   delicious      6  35.29%\n",
            "3       awful      6  35.29%\n",
            "4       wrong      6  35.29%\n",
            "5  particular      5  29.41%\n",
            "6        good      5  29.41%\n",
            "Score 3 reviews most popular adjectives word:\n",
            "         Phrase  Count Occur %\n",
            "0         whole      9  64.29%\n",
            "1          high      5  35.71%\n",
            "2         great      4  28.57%\n",
            "3         first      4  28.57%\n",
            "4          good      4  28.57%\n",
            "5  disappointed      4  28.57%\n",
            "Score 4 reviews most popular adjectives word:\n",
            "      Phrase  Count Occur %\n",
            "0      great      9  56.25%\n",
            "1  delicious      8   50.0%\n",
            "2  recommend      5  31.25%\n",
            "3     little      5  31.25%\n",
            "4   multiple      4   25.0%\n",
            "5       much      4   25.0%\n",
            "6    regular      4   25.0%\n",
            "7       good      4   25.0%\n",
            "8       high      4   25.0%\n",
            "Score 5 reviews most popular adjectives word:\n",
            "      Phrase  Count Occur %\n",
            "0  delicious     31  73.81%\n",
            "1      great     18  42.86%\n",
            "2       high     14  33.33%\n",
            "3      first     13  30.95%\n",
            "4      fresh     12  28.57%\n",
            "Score 1 reviews most popular adjectives word:\n",
            "      Phrase  Count Occur %\n",
            "0        dry     13   50.0%\n",
            "1     cheese     12  46.15%\n",
            "2        bad     10  38.46%\n",
            "3     little     10  38.46%\n",
            "4       hard      8  30.77%\n",
            "5  delicious      8  30.77%\n",
            "6      tasty      8  30.77%\n",
            "7  expensive      8  30.77%\n",
            "8      bread      7  26.92%\n",
            "9       poor      7  26.92%\n",
            "Score 2 reviews most popular adjectives word:\n",
            "       Phrase  Count Occur %\n",
            "0       whole     10  58.82%\n",
            "1      cheese      8  47.06%\n",
            "2   delicious      6  35.29%\n",
            "3       awful      6  35.29%\n",
            "4       wrong      6  35.29%\n",
            "5  particular      5  29.41%\n",
            "6        good      5  29.41%\n",
            "Score 3 reviews most popular adjectives word:\n",
            "         Phrase  Count Occur %\n",
            "0         whole      9  64.29%\n",
            "1          high      5  35.71%\n",
            "2         great      4  28.57%\n",
            "3         first      4  28.57%\n",
            "4          good      4  28.57%\n",
            "5  disappointed      4  28.57%\n",
            "Score 4 reviews most popular adjectives word:\n",
            "      Phrase  Count Occur %\n",
            "0      great      9  56.25%\n",
            "1  delicious      8   50.0%\n",
            "2  recommend      5  31.25%\n",
            "3     little      5  31.25%\n",
            "4   multiple      4   25.0%\n",
            "5       much      4   25.0%\n",
            "6    regular      4   25.0%\n",
            "7       good      4   25.0%\n",
            "8       high      4   25.0%\n",
            "Score 5 reviews most popular adjectives word:\n",
            "      Phrase  Count Occur %\n",
            "0  delicious     31  73.81%\n",
            "1      great     18  42.86%\n",
            "2       high     14  33.33%\n",
            "3      first     13  30.95%\n",
            "4      fresh     12  28.57%\n"
          ]
        }
      ],
      "source": [
        "# Define column names\n",
        "index = ['Phrase', 'Count', 'Occur %']\n",
        "\n",
        "# Score 1-5 reviews for this user\n",
        "for j in range(1, 6):\n",
        "    test = pd.DataFrame()\n",
        "    d = get_token_adj(j, 0.25, 'A2M9D9BDHONV3Y')\n",
        "    print('Score {} reviews most popular adjectives word:'.format(j))\n",
        "    for i in d:\n",
        "        # Replace append with pd.concat\n",
        "        test = pd.concat([test, pd.DataFrame([i], columns=index)], ignore_index=True)\n",
        "    test = test.sort_values('Count', ascending=False)\n",
        "    print(test)\n",
        "\n",
        "# Score 1-5 reviews for this user (repeated)\n",
        "for j in range(1, 6):\n",
        "    test = pd.DataFrame()\n",
        "    d = get_token_adj(j, 0.25, 'A2M9D9BDHONV3Y')\n",
        "    print('Score {} reviews most popular adjectives word:'.format(j))\n",
        "    for i in d:\n",
        "        # Replace append with pd.concat\n",
        "        test = pd.concat([test, pd.DataFrame([i], columns=index)], ignore_index=True)\n",
        "    test = test.sort_values('Count', ascending=False)\n",
        "    print(test)\n"
      ]
    },
    {
      "cell_type": "markdown",
      "metadata": {
        "id": "UmG4aAqdFXlT"
      },
      "source": [
        "Obviously much more useful information here, e.g. A. Bennett hates food that are too dry and expensive\n",
        "Let's also look at big picture:"
      ]
    },
    {
      "cell_type": "code",
      "execution_count": null,
      "metadata": {
        "id": "e1mPnAQ_FYzS",
        "colab": {
          "base_uri": "https://localhost:8080/"
        },
        "outputId": "549faeb7-e053-4a55-b207-dc904846ed79"
      },
      "outputs": [
        {
          "output_type": "stream",
          "name": "stdout",
          "text": [
            "Score 1 reviews most popular adjectives word:\n",
            "          Phrase  Count Occur %\n",
            "0           good  16216  31.02%\n",
            "1            bad  10804  20.67%\n",
            "2          great   4984   9.54%\n",
            "3           much   4840   9.26%\n",
            "4         little   4787   9.16%\n",
            "5            old   4781   9.15%\n",
            "6          first   4201   8.04%\n",
            "7            new   3963   7.58%\n",
            "8      different   3789   7.25%\n",
            "9           many   3717   7.11%\n",
            "10         small   3540   6.77%\n",
            "11          real   3297   6.31%\n",
            "12  disappointed   2999   5.74%\n",
            "13          sure   2889   5.53%\n",
            "14          free   2835   5.42%\n",
            "15          diet   2832   5.42%\n",
            "16          high   2769    5.3%\n",
            "17          last   2659   5.09%\n",
            "Score 2 reviews most popular adjectives word:\n",
            "          Phrase  Count Occur %\n",
            "0           good  13542  45.49%\n",
            "1           much   4252  14.28%\n",
            "2            bad   4198   14.1%\n",
            "3          great   3918  13.16%\n",
            "4         little   3691   12.4%\n",
            "5          small   2848   9.57%\n",
            "6          first   2318   7.79%\n",
            "7         strong   2293    7.7%\n",
            "8      different   2242   7.53%\n",
            "9          sweet   2165   7.27%\n",
            "10          many   2068   6.95%\n",
            "11           old   2056   6.91%\n",
            "12           big   2010   6.75%\n",
            "13          hard   1952   6.56%\n",
            "14           hot   1925   6.47%\n",
            "15  disappointed   1908   6.41%\n",
            "16          sure   1900   6.38%\n",
            "17          high   1893   6.36%\n",
            "18         green   1767   5.94%\n",
            "19         whole   1704   5.72%\n",
            "20       healthy   1644   5.52%\n",
            "21           new   1608    5.4%\n",
            "22          weak   1595   5.36%\n",
            "23       organic   1576   5.29%\n",
            "24          real   1527   5.13%\n",
            "25       regular   1495   5.02%\n",
            "Score 3 reviews most popular adjectives word:\n",
            "       Phrase  Count Occur %\n",
            "0        good  25117   58.9%\n",
            "1       great   7654  17.95%\n",
            "2      little   7374  17.29%\n",
            "3        much   6926  16.24%\n",
            "4         bad   5497  12.89%\n",
            "5      strong   4744  11.13%\n",
            "6       small   4683  10.98%\n",
            "7       sweet   4015   9.42%\n",
            "8       first   3468   8.13%\n",
            "9   different   3434   8.05%\n",
            "10       high   3289   7.71%\n",
            "11       nice   3108   7.29%\n",
            "12       sure   3103   7.28%\n",
            "13        big   3041   7.13%\n",
            "14        hot   2918   6.84%\n",
            "15       many   2904   6.81%\n",
            "16      green   2762   6.48%\n",
            "17    healthy   2672   6.27%\n",
            "18    organic   2608   6.12%\n",
            "19       hard   2601    6.1%\n",
            "20    regular   2568   6.02%\n",
            "21        old   2520   5.91%\n",
            "22      large   2516    5.9%\n",
            "23      whole   2247   5.27%\n",
            "24    natural   2237   5.25%\n",
            "25        dry   2164   5.08%\n",
            "Score 4 reviews most popular adjectives word:\n",
            "       Phrase  Count Occur %\n",
            "0        good  52577  65.19%\n",
            "1       great  22480  27.87%\n",
            "2      little  16209   20.1%\n",
            "3        much  10530  13.06%\n",
            "4        nice   9281  11.51%\n",
            "5      strong   8536  10.58%\n",
            "6       small   8375  10.38%\n",
            "7       sweet   8156  10.11%\n",
            "8     healthy   6495   8.05%\n",
            "9        easy   6152   7.63%\n",
            "10        hot   5980   7.41%\n",
            "11       high   5962   7.39%\n",
            "12       many   5734   7.11%\n",
            "13        bad   5683   7.05%\n",
            "14        big   5682   7.04%\n",
            "15  different   5480   6.79%\n",
            "16      first   5426   6.73%\n",
            "17    organic   5309   6.58%\n",
            "18       sure   5047   6.26%\n",
            "19       free   5033   6.24%\n",
            "20      green   4839    6.0%\n",
            "21    regular   4764   5.91%\n",
            "22      large   4654   5.77%\n",
            "23       hard   4573   5.67%\n",
            "24        old   4499   5.58%\n",
            "25      tasty   4474   5.55%\n",
            "26      fresh   4464   5.53%\n",
            "27        low   4406   5.46%\n",
            "28      whole   4326   5.36%\n",
            "29  delicious   4326   5.36%\n",
            "30    natural   4268   5.29%\n",
            "Score 5 reviews most popular adjectives word:\n",
            "       Phrase   Count Occur %\n",
            "0        good  151290  41.66%\n",
            "1       great  127849  35.21%\n",
            "2      little   45683  12.58%\n",
            "3        much   32777   9.03%\n",
            "4   delicious   32744   9.02%\n",
            "5     healthy   30182   8.31%\n",
            "6        many   27711   7.63%\n",
            "7        free   26172   7.21%\n",
            "8        easy   25850   7.12%\n",
            "9    favorite   25257   6.96%\n",
            "10      small   24898   6.86%\n",
            "11        hot   24759   6.82%\n",
            "12      sweet   23771   6.55%\n",
            "13       nice   23228    6.4%\n",
            "14        old   21403   5.89%\n",
            "15      happy   21162   5.83%\n",
            "16      fresh   20424   5.62%\n",
            "17     strong   20269   5.58%\n",
            "18    organic   19768   5.44%\n",
            "19       high   19727   5.43%\n",
            "20  different   19348   5.33%\n",
            "21      first   18844   5.19%\n",
            "22      local   18735   5.16%\n",
            "23    perfect   18649   5.14%\n",
            "24        big   18319   5.04%\n"
          ]
        }
      ],
      "source": [
        "# Define column names\n",
        "index = ['Phrase', 'Count', 'Occur %']\n",
        "\n",
        "# Score 1-5 reviews with all users\n",
        "for j in range(1, 6):\n",
        "    test = pd.DataFrame()\n",
        "    d = get_token_adj(j, 0.05)\n",
        "    print('Score {} reviews most popular adjectives word:'.format(j))\n",
        "    for i in d:\n",
        "        # Replace append with pd.concat\n",
        "        test = pd.concat([test, pd.DataFrame([i], columns=index)], ignore_index=True)\n",
        "    test = test.sort_values('Count', ascending=False)\n",
        "    print(test)"
      ]
    },
    {
      "cell_type": "code",
      "execution_count": null,
      "metadata": {
        "id": "GRoOxYGFHD2z",
        "colab": {
          "base_uri": "https://localhost:8080/",
          "height": 867
        },
        "outputId": "1d7a5134-1ac6-4f5e-f515-e4206df23ab8"
      },
      "outputs": [
        {
          "output_type": "display_data",
          "data": {
            "text/plain": [
              "<Figure size 1500x1000 with 1 Axes>"
            ],
            "image/png": "[encoded data removed]"
          },
          "metadata": {}
        }
      ],
      "source": [
        "def plot_users():\n",
        "  df_users = odf['Score']\n",
        "  df_users_plot = df_users.value_counts(sort=True)\n",
        "  ax = df_users_plot.plot(kind = 'bar', figsize = (15, 10), title = 'Score distribution of user review')\n",
        "\n",
        "plot_users()"
      ]
    }
  ],
  "metadata": {
    "colab": {
      "provenance": [],
      "include_colab_link": true
    },
    "kernelspec": {
      "display_name": "Python 3",
      "name": "python3"
    },
    "language_info": {
      "name": "python"
    }
  },
  "nbformat": 4,
  "nbformat_minor": 0
}